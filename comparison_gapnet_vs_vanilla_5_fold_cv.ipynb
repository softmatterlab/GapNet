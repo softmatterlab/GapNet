{
 "cells": [
  {
   "cell_type": "markdown",
   "id": "cd8ac378",
   "metadata": {},
   "source": [
    "# Comparison: GapNet vs. Vanilla"
   ]
  },
  {
   "cell_type": "markdown",
   "id": "8e05ba2a",
   "metadata": {},
   "source": [
    "In this tutorial we follow the same steps explaned in the gapnet tutorial notebook and compare them to a Vanilla neural network trained only on the subjects without missing values."
   ]
  },
  {
   "cell_type": "code",
   "execution_count": null,
   "metadata": {
    "scrolled": true
   },
   "outputs": [],
   "source": [
    "# Architecture of the GapNet\n",
    "from IPython.display import Image\n",
    "Image(\"assets/Gapnet.jpg\", width = 500)"
   ]
  },
  {
   "cell_type": "markdown",
   "metadata": {},
   "source": [
    "The figure shows a schematic representation of the dataset (on the left) and the GapNet approach (on the right) where the training takes place in two stages, where the connectors in black are trained in the first stage and the connectors in gray are trained in the second one."
   ]
  },
  {
   "cell_type": "code",
   "execution_count": null,
   "metadata": {
    "scrolled": true
   },
   "outputs": [],
   "source": [
    "# Architecture of the Vanilla\n",
    "from IPython.display import Image\n",
    "Image(\"assets/Vanilla.jpg\", width = 500)"
   ]
  },
  {
   "cell_type": "markdown",
   "metadata": {},
   "source": [
    "The figure shows a schematic representation of the dataset (on the left) and the Vanilla neural network (on the right). Only the complete cases are used for Vanilla model. "
   ]
  },
  {
   "cell_type": "markdown",
   "metadata": {},
   "source": [
    "## Initialization"
   ]
  },
  {
   "cell_type": "markdown",
   "metadata": {},
   "source": [
    "First thing first, we load the main gapnet functions"
   ]
  },
  {
   "cell_type": "code",
   "execution_count": null,
   "metadata": {},
   "outputs": [],
   "source": [
    "from src import gapnet as gapnet"
   ]
  },
  {
   "cell_type": "markdown",
   "metadata": {},
   "source": [
    "## Load the dataset"
   ]
  },
  {
   "cell_type": "markdown",
   "metadata": {},
   "source": [
    "We provide an example dataset adapted from the the simulated dataset [Madelon](https://scikit-learn.org/stable/modules/generated/sklearn.datasets.make_classification.html?highlight=madelon). We provide two files: one including the inputs \"X.npy\" and one with the targets \"Y.npy\".\n",
    "\n",
    "The dataset consists of 1000 subjects of which only 100 have all 40 features."
   ]
  },
  {
   "cell_type": "code",
   "execution_count": 4,
   "id": "a51b3845",
   "metadata": {},
   "outputs": [
    {
     "name": "stdout",
     "output_type": "stream",
     "text": [
      "Number of features 40\n",
      "Number of subjects 1000\n"
     ]
    }
   ],
   "source": [
    "from numpy import isnan, load\n",
    "\n",
    "X = load('data/X.npy') \n",
    "Y = load('data/Y.npy')\n",
    "\n",
    "print(\"Number of features {}\".format(X.shape[1]))\n",
    "print(\"Number of subjects {}\".format(X.shape[0]))"
   ]
  },
  {
   "cell_type": "markdown",
   "metadata": {},
   "source": [
    "## Generate models"
   ]
  },
  {
   "cell_type": "markdown",
   "metadata": {},
   "source": [
    "Now, it is time to build both gapnet and vanilla model.\n",
    "\n",
    "It requires first of all to define an object that will include all gapnet elements, and is defined as\n",
    "gapnet_model = gapnet.generate_gapnet_model()\n",
    "vanilla_model = gapnet.generate_vanilla_model()\n",
    "\n",
    "Afterwards, the build_model function is required to introduce the gapnet neural network architecture.\n",
    "gapnet_model.build_model()\n",
    "vanilla_model.build_model()\n",
    "\n",
    "Now, the modes are ready to be trained. Use the following functions to take as inputs the training and validation sets.\n",
    "gapnet_model.train_first_stage(X_train, Y_train, X_val, Y_val)\n",
    "gapnet_model.train_second_stage(X_train, Y_train, X_val, Y_val)\n",
    "vanilla_model.train_single_stage(X_overlap, Y_overlap, X_val, Y_val)\n"
   ]
  },
  {
   "cell_type": "code",
   "execution_count": 5,
   "metadata": {},
   "outputs": [
    {
     "name": "stdout",
     "output_type": "stream",
     "text": [
      "Model: \"sequential\"\n",
      "_________________________________________________________________\n",
      " Layer (type)                Output Shape              Param #   \n",
      "=================================================================\n",
      " dense (Dense)               (None, 80)                3280      \n",
      "                                                                 \n",
      " dropout (Dropout)           (None, 80)                0         \n",
      "                                                                 \n",
      " dense_1 (Dense)             (None, 80)                6480      \n",
      "                                                                 \n",
      " dropout_1 (Dropout)         (None, 80)                0         \n",
      "                                                                 \n",
      " dense_2 (Dense)             (None, 2)                 162       \n",
      "                                                                 \n",
      "=================================================================\n",
      "Total params: 9,922\n",
      "Trainable params: 9,922\n",
      "Non-trainable params: 0\n",
      "_________________________________________________________________\n",
      "None\n"
     ]
    }
   ],
   "source": [
    "vanilla_model = gapnet.generate_vanilla_model(n_feature = X.shape[1],n_classes = 2)\n",
    "vanilla_model.build_model(show_summary=True)"
   ]
  },
  {
   "cell_type": "code",
   "execution_count": 6,
   "metadata": {
    "scrolled": true
   },
   "outputs": [
    {
     "name": "stdout",
     "output_type": "stream",
     "text": [
      "Generating the 1 neural network model ... \n",
      "Generating the 2 neural network model ... \n",
      "Generating the final gapnet model ... \n",
      "Model: \"model\"\n",
      "__________________________________________________________________________________________________\n",
      " Layer (type)                   Output Shape         Param #     Connected to                     \n",
      "==================================================================================================\n",
      " input_4 (InputLayer)           [(None, 25)]         0           []                               \n",
      "                                                                                                  \n",
      " input_5 (InputLayer)           [(None, 15)]         0           []                               \n",
      "                                                                                                  \n",
      " dense_9 (Dense)                (None, 50)           1300        ['input_4[0][0]']                \n",
      "                                                                                                  \n",
      " dense_10 (Dense)               (None, 30)           480         ['input_5[0][0]']                \n",
      "                                                                                                  \n",
      " dropout_6 (Dropout)            (None, 50)           0           ['dense_9[0][0]']                \n",
      "                                                                                                  \n",
      " dropout_7 (Dropout)            (None, 30)           0           ['dense_10[0][0]']               \n",
      "                                                                                                  \n",
      " dense_11 (Dense)               (None, 50)           2550        ['dropout_6[0][0]']              \n",
      "                                                                                                  \n",
      " dense_12 (Dense)               (None, 30)           930         ['dropout_7[0][0]']              \n",
      "                                                                                                  \n",
      " dropout_8 (Dropout)            (None, 50)           0           ['dense_11[0][0]']               \n",
      "                                                                                                  \n",
      " dropout_9 (Dropout)            (None, 30)           0           ['dense_12[0][0]']               \n",
      "                                                                                                  \n",
      " concatenate (Concatenate)      (None, 80)           0           ['dropout_8[0][0]',              \n",
      "                                                                  'dropout_9[0][0]']              \n",
      "                                                                                                  \n",
      " dense_13 (Dense)               (None, 2)            162         ['concatenate[0][0]']            \n",
      "                                                                                                  \n",
      "==================================================================================================\n",
      "Total params: 5,422\n",
      "Trainable params: 162\n",
      "Non-trainable params: 5,260\n",
      "__________________________________________________________________________________________________\n",
      "None\n"
     ]
    }
   ],
   "source": [
    "gapnet_model = gapnet.generate_gapnet_model(cluster_sizes = [25,15], n_feature = X.shape[1],n_classes = 2)\n",
    "gapnet_model.build_model(show_summary=True)"
   ]
  },
  {
   "cell_type": "markdown",
   "metadata": {},
   "source": [
    "## Train the models"
   ]
  },
  {
   "cell_type": "code",
   "execution_count": 7,
   "metadata": {},
   "outputs": [
    {
     "name": "stdout",
     "output_type": "stream",
     "text": [
      "Training process of vanilla is done.\n",
      "Training process of first stage is done.\n",
      "Training process of second stage is done.\n",
      "Training process of vanilla is done.\n",
      "Training process of first stage is done.\n",
      "Training process of second stage is done.\n",
      "Training process of vanilla is done.\n",
      "Training process of first stage is done.\n",
      "Training process of second stage is done.\n",
      "Training process of vanilla is done.\n",
      "Training process of first stage is done.\n",
      "Training process of second stage is done.\n",
      "Training process of vanilla is done.\n",
      "Training process of first stage is done.\n",
      "Training process of second stage is done.\n"
     ]
    }
   ],
   "source": [
    "from sklearn.model_selection import StratifiedKFold\n",
    "skf = StratifiedKFold(n_splits=5, shuffle=True, random_state=42)\n",
    "X_overlap, Y_overlap, X_incomplete, Y_incomplete = gapnet.separate_missing_data(X, Y)\n",
    "\n",
    "for train_index, test_index in skf.split(X_overlap, Y_overlap):\n",
    "    X_train, X_test = X_overlap[train_index], X_overlap[test_index]\n",
    "    Y_train, Y_test = Y_overlap[train_index], Y_overlap[test_index]\n",
    "    X_train, X_test, X_train_overall, Y_train_overall = gapnet.preprocess_standardization_with_missing_data(X_train, Y_train, X_test, X_incomplete, Y_incomplete)\n",
    "    \n",
    "    # train vanilla\n",
    "    vanilla_model.train_single_stage(X_train, Y_train, X_test, Y_test)\n",
    "    \n",
    "    # train gapnet\n",
    "    gapnet_model.train_first_stage(X_train_overall, Y_train_overall, X_test, Y_test)\n",
    "    gapnet_model.train_second_stage(X_train, Y_train, X_test, Y_test)"
   ]
  },
  {
   "cell_type": "code",
   "execution_count": 8,
   "metadata": {},
   "outputs": [
    {
     "name": "stdout",
     "output_type": "stream",
     "text": [
      "Results :\n",
      "best_epochs [21, 9, 1, 4, 13]\n",
      "train_accuracy 0.664+/-0.107 : [0.7   0.712 0.47  0.65  0.788]\n",
      "test_accuracy 0.580+/-0.103 : [0.55 0.6  0.4  0.65 0.7 ]\n",
      "test_auc 0.596+/-0.124 : [0.545 0.68  0.395 0.6   0.76 ]\n",
      "test_sens 0.567+/-0.106 : [0.5   0.6   0.4   0.636 0.7  ]\n",
      "test_spec 0.593+/-0.104 : [0.6   0.6   0.4   0.667 0.7  ]\n",
      "test_prec 0.591+/-0.111 : [0.556 0.6   0.4   0.7   0.7  ]\n"
     ]
    }
   ],
   "source": [
    "gapnet.present_results(vanilla_model)"
   ]
  },
  {
   "cell_type": "code",
   "execution_count": 9,
   "metadata": {},
   "outputs": [
    {
     "name": "stdout",
     "output_type": "stream",
     "text": [
      "Results :\n",
      "best_epochs [127, 1, 159, 1, 1]\n",
      "train_accuracy 0.945+/-0.039 : [0.875 0.95  0.938 0.988 0.975]\n",
      "test_accuracy 0.810+/-0.097 : [0.75 0.7  0.95 0.75 0.9 ]\n",
      "test_auc 0.930+/-0.060 : [0.828 0.91  1.    0.93  0.98 ]\n",
      "test_sens 0.804+/-0.061 : [0.75  0.75  0.909 0.778 0.833]\n",
      "test_spec 0.829+/-0.142 : [0.75  0.667 1.    0.727 1.   ]\n",
      "test_prec 0.793+/-0.172 : [0.667 0.6   1.    0.7   1.   ]\n"
     ]
    }
   ],
   "source": [
    "gapnet.present_results(gapnet_model)"
   ]
  },
  {
   "cell_type": "markdown",
   "id": "80a805bd",
   "metadata": {},
   "source": [
    "## Compare the performances\n",
    "\n",
    "After training the gapnet, it is possible to show the results by plotting the ROC curve, the confusion matrix, the loss, precision and recall functions along the training."
   ]
  },
  {
   "cell_type": "code",
   "execution_count": null,
   "id": "be33531a",
   "metadata": {},
   "outputs": [],
   "source": [
    "import matplotlib as mpl\n",
    "%matplotlib inline\n",
    "mpl.rcParams['figure.figsize'] = (12, 10)\n",
    "\n",
    "# show training progress of gapnet\n",
    "gapnet.plot_metrics(gapnet_model.history['gapnet'])"
   ]
  },
  {
   "cell_type": "code",
   "execution_count": null,
   "metadata": {},
   "outputs": [],
   "source": [
    "# show training progress of vanilla\n",
    "gapnet.plot_metrics(vanilla_model.history)"
   ]
  },
  {
   "cell_type": "code",
   "execution_count": null,
   "id": "164c90eb",
   "metadata": {},
   "outputs": [],
   "source": [
    "from sklearn.metrics import roc_auc_score\n",
    "print('AUC-ROC for the GapNet structure: {:.3f}'.format(roc_auc_score(gapnet_model.val_y_labels, gapnet_model.val_y_preds)))\n",
    "print('AUC-ROC for the Vanilla structure: {:.3f}'.format(roc_auc_score(vanilla_model.val_y_labels, vanilla_model.val_y_preds)))"
   ]
  },
  {
   "cell_type": "code",
   "execution_count": null,
   "metadata": {},
   "outputs": [],
   "source": [
    "# show roc curve of both models\n",
    "gapnet.plot_roc_avg(\"vanilla\", vanilla_model.val_y_labels, vanilla_model.val_y_preds, num_trials, linestyle='solid', color='skyblue')\n",
    "gapnet.plot_roc_avg(\"gapnet\", gapnet_model.val_y_labels, gapnet_model.val_y_preds, num_trials, linestyle='solid', color='darkorange')"
   ]
  },
  {
   "cell_type": "code",
   "execution_count": null,
   "id": "ffcd28e4",
   "metadata": {},
   "outputs": [],
   "source": [
    "# show histogram for both models\n",
    "gapnet.plot_hist(gapnet_model.val_aucs, 'gapnet', color='darkorange', alpha=0.5)\n",
    "gapnet.plot_hist(vanilla_model.val_aucs, 'vallina', color='skyblue', alpha=0.5)"
   ]
  },
  {
   "cell_type": "code",
   "execution_count": null,
   "id": "d53273af",
   "metadata": {},
   "outputs": [],
   "source": [
    "# show confusion matrix for gapnet\n",
    "gapnet.plot_cm(gapnet_model.val_y_labels, gapnet_model.val_y_preds, 0.5)"
   ]
  },
  {
   "cell_type": "code",
   "execution_count": null,
   "metadata": {},
   "outputs": [],
   "source": [
    "# show confusion matrix for vanilla\n",
    "gapnet.plot_cm(vanilla_model.val_y_labels, vanilla_model.val_y_preds, 0.5)"
   ]
  },
  {
   "cell_type": "code",
   "execution_count": null,
   "metadata": {},
   "outputs": [],
   "source": []
  }
 ],
 "metadata": {
  "kernelspec": {
   "display_name": "Python 3",
   "language": "python",
   "name": "python3"
  },
  "language_info": {
   "codemirror_mode": {
    "name": "ipython",
    "version": 3
   },
   "file_extension": ".py",
   "mimetype": "text/x-python",
   "name": "python",
   "nbconvert_exporter": "python",
   "pygments_lexer": "ipython3",
   "version": "3.8.10"
  }
 },
 "nbformat": 4,
 "nbformat_minor": 5
}
